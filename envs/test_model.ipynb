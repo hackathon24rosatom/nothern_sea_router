{
 "cells": [
  {
   "cell_type": "code",
   "execution_count": 1,
   "metadata": {},
   "outputs": [],
   "source": [
    "import pandas as pd\n",
    "\n",
    "from actors import VesselCategory\n",
    "from utils import load_serialized_neighbors, find_and_serialize_neighbors\n",
    "\n",
    "\n",
    "grid = pd.read_excel(r\"data\\velocity.xlsx\")\n",
    "routes = pd.read_excel(r\"data\\routes.xlsx\")\n",
    "vessels = pd.read_excel(r\"data\\vessels.xlsx\")"
   ]
  },
  {
   "cell_type": "code",
   "execution_count": 2,
   "metadata": {},
   "outputs": [],
   "source": [
    "from envs.actors import ShipTimed, IceBreaker, Geopoint, VesselMoveStatus\n",
    "time_tick = 1 / 6 # 10 min\n",
    "\n",
    "def make_ship(config: dict):\n",
    "    if '_' in config['iceclass']:\n",
    "        start_geo = routes.iloc[:, 3:].sample(1).values[0][:2]\n",
    "        return IceBreaker(\n",
    "            name=config.get('name'),\n",
    "            category=VesselCategory.arc92,\n",
    "            location_point=Geopoint(start_geo[0], start_geo[1]),\n",
    "            route_request=None, # им никуда не надо\n",
    "            status=VesselMoveStatus.waiting,\n",
    "            max_speed=18.50,\n",
    "            avg_speed=0.,\n",
    "            curr_speed=0.,\n",
    "            tick=time_tick,\n",
    "        )\n",
    "    start_geo = routes.iloc[:, 3:].sample(1).values[0]\n",
    "    return ShipTimed(\n",
    "        name=config.get('name'),\n",
    "        category=VesselCategory.arc6,\n",
    "        location_point=Geopoint(start_geo[0], start_geo[1]),\n",
    "        route_request=Geopoint(start_geo[2], start_geo[3]),\n",
    "        status=VesselMoveStatus.waiting,\n",
    "        max_speed=19,\n",
    "        avg_speed=0.,\n",
    "        curr_speed=0.,\n",
    "        tick=time_tick,\n",
    "    )"
   ]
  },
  {
   "cell_type": "code",
   "execution_count": 3,
   "metadata": {},
   "outputs": [],
   "source": [
    "time_tick = 1 / 6 # 10 min\n",
    "#ships icebrteakers\n",
    "ships_list = [make_ship(ship_stat) for _, ship_stat in vessels.to_dict(orient='index').items()]\n",
    "# grid\n",
    "find_and_serialize_neighbors(grid=grid[[\"lat\", \"lon\"]].values, static_folder=\"data\")\n",
    "\n",
    "config = {\n",
    "    'max_episode_steps': 400,\n",
    "    'neighbors_shape': (1, 32, ),\n",
    "    'serialized_neighbors': load_serialized_neighbors(\"data\"),\n",
    "    'grid': grid,\n",
    "    #'routes': routes.iloc[:, 3:],\n",
    "    'date_start': 2,\n",
    "    'time_tick': time_tick,\n",
    "    'ice_breaker_counts': 4,\n",
    "    'ships_count': 42,\n",
    "    # TODO hard reset\n",
    "    'ships_list': ships_list\n",
    "}"
   ]
  },
  {
   "cell_type": "code",
   "execution_count": 4,
   "metadata": {},
   "outputs": [
    {
     "name": "stderr",
     "output_type": "stream",
     "text": [
      "d:\\Code\\Python\\Lib\\site-packages\\tqdm\\auto.py:21: TqdmWarning: IProgress not found. Please update jupyter and ipywidgets. See https://ipywidgets.readthedocs.io/en/stable/user_install.html\n",
      "  from .autonotebook import tqdm as notebook_tqdm\n",
      "2024-06-16 20:01:04,769\tINFO util.py:154 -- Missing packages: ['ipywidgets']. Run `pip install -U ipywidgets`, then restart the notebook server for rich notebook output.\n",
      "2024-06-16 20:01:07,391\tINFO util.py:154 -- Missing packages: ['ipywidgets']. Run `pip install -U ipywidgets`, then restart the notebook server for rich notebook output.\n"
     ]
    }
   ],
   "source": [
    "from envs.waterworld_multiagent import WaterWorldMultiEnv\n",
    "import warnings\n",
    "warnings.filterwarnings(\"ignore\")\n",
    "\n",
    "wwme = WaterWorldMultiEnv(config)\n",
    "w, _ = wwme.reset()"
   ]
  },
  {
   "cell_type": "markdown",
   "metadata": {},
   "source": [
    "### алгоритм"
   ]
  },
  {
   "cell_type": "code",
   "execution_count": 8,
   "metadata": {},
   "outputs": [
    {
     "name": "stderr",
     "output_type": "stream",
     "text": [
      "2024-06-16 20:01:32,256\tWARNING deprecation.py:50 -- DeprecationWarning: `rollouts` has been deprecated. Use `AlgorithmConfig.env_runners(..)` instead. This will raise an error in the future!\n",
      "2024-06-16 20:01:32,257\tWARNING deprecation.py:50 -- DeprecationWarning: `AlgorithmConfig.env_runners(num_rollout_workers)` has been deprecated. Use `AlgorithmConfig.env_runners(num_env_runners)` instead. This will raise an error in the future!\n"
     ]
    }
   ],
   "source": [
    "from ray.rllib.algorithms import PPOConfig\n",
    "\n",
    "\n",
    "try:\n",
    "    algo.stop()\n",
    "except:\n",
    "    pass\n",
    "\n",
    "training_options = {\n",
    "    'train_batch_size': 1024,\n",
    "    'sgd_minibatch_size': 128,\n",
    "    #'lr': 1e-05,\n",
    "    #'num_sgd_iter': 22,\n",
    "    'model': {\n",
    "        #'fcnet_activation': 'relu',\n",
    "        #'fcnet_hiddens': [256, 256],\n",
    "        'vf_share_layers': False,\n",
    "        #'use_lstm': True,\n",
    "    }\n",
    "}\n",
    "\n",
    "ppo_config = (\n",
    "    PPOConfig()\n",
    "    .environment(env=WaterWorldMultiEnv, env_config=config)\n",
    "    .framework('torch')\n",
    "    .rollouts(num_rollout_workers=0, rollout_fragment_length=8)\n",
    "    #.evaluation(evaluation_num_workers=0, evaluation_interval=1)\n",
    "    .training(**training_options)\n",
    "    #TODO разные политики для каждого корабля, траектория должна совпаджать если модель одна (все агенты должны одновременно заканчивать)\n",
    ")"
   ]
  },
  {
   "cell_type": "code",
   "execution_count": 9,
   "metadata": {},
   "outputs": [
    {
     "name": "stderr",
     "output_type": "stream",
     "text": [
      "2024-06-16 20:01:34,135\tWARNING deprecation.py:50 -- DeprecationWarning: `num_envs_per_worker` has been deprecated. Use `AlgorithmConfig.num_envs_per_env_runner` instead. This will raise an error in the future!\n"
     ]
    },
    {
     "name": "stderr",
     "output_type": "stream",
     "text": [
      "2024-06-16 20:01:34,164\tINFO tensorboardx.py:45 -- pip install \"ray[tune]\" to see TensorBoard files.\n",
      "2024-06-16 20:01:34,165\tWARNING unified.py:56 -- Could not instantiate TBXLogger: No module named 'tensorboardX'.\n",
      "2024-06-16 20:01:34,170\tWARNING deprecation.py:50 -- DeprecationWarning: `max_num_worker_restarts` has been deprecated. Use `AlgorithmConfig.max_num_env_runner_restarts` instead. This will raise an error in the future!\n",
      "2024-06-16 20:01:34,407\tWARNING util.py:61 -- Install gputil for GPU system monitoring.\n"
     ]
    }
   ],
   "source": [
    "algo = ppo_config.build()"
   ]
  },
  {
   "cell_type": "markdown",
   "metadata": {},
   "source": [
    "### обучение"
   ]
  },
  {
   "cell_type": "code",
   "execution_count": null,
   "metadata": {},
   "outputs": [],
   "source": [
    "# algo.load_checkpoint(checkpoint_dir='./checkpoint_v1/')\n",
    "# algo.save_checkpoint(checkpoint_dir='./checkpoint_v1/')"
   ]
  },
  {
   "cell_type": "code",
   "execution_count": null,
   "metadata": {},
   "outputs": [],
   "source": [
    "hist = []\n",
    "EPOCHS = 50\n",
    "for i in range(EPOCHS):\n",
    "    hist.append(algo.step())\n",
    "    if i % 5:\n",
    "        #print(f'Eposch = {i}\\tinfo = {hist}')"
   ]
  },
  {
   "cell_type": "markdown",
   "metadata": {},
   "source": [
    "### инференс"
   ]
  },
  {
   "cell_type": "code",
   "execution_count": 10,
   "metadata": {},
   "outputs": [],
   "source": [
    "def alg_eval(env, algo, ship_id):\n",
    "    all_actions = []\n",
    "    total_profit = 0\n",
    "    cords = []\n",
    "    obs, _ = env.reset()\n",
    "    for _ in range(100):\n",
    "        x = algo.compute_single_action(obs[ship_id], explore=False)\n",
    "        obs, profit, term, trunc, _ = env.step({ship_id: x})\n",
    "\n",
    "        all_actions.append(x)\n",
    "        total_profit += profit.get(ship_id, 0)\n",
    "        cords.append(env.envs[ship_id].ship.location_point)\n",
    "        if term.get(ship_id, False) or trunc.get(ship_id, False):\n",
    "            break\n",
    "        if term.get('__all__', False) or trunc.get(ship_id, False):\n",
    "            break\n",
    "\n",
    "    return {\n",
    "        'total_profit': total_profit,\n",
    "        'actions': all_actions,\n",
    "        'cords': cords,\n",
    "    }"
   ]
  },
  {
   "cell_type": "code",
   "execution_count": 29,
   "metadata": {},
   "outputs": [
    {
     "name": "stdout",
     "output_type": "stream",
     "text": [
      "ShipTimed(name='ШТУРМАН АЛЬБАНОВ', category=<VesselCategory.arc6: 6>, location_point=Geopoint(latitude=69.9, longitude=44.6), route_request=Geopoint(latitude=69.15, longitude=57.68), status=<VesselMoveStatus.waiting: 0>, max_speed=19, avg_speed=0.0, curr_speed=0.0, total_time=0.0, tick=0.16666666666666666, _last_x=None, _last_y=None)\n"
     ]
    },
    {
     "data": {
      "text/plain": [
       "{'total_profit': -10.87325686200906,\n",
       " 'actions': [1, 1, 2, 2, 2, 2, 2, 2, 2, 2, 2],\n",
       " 'cords': [Geopoint(latitude=69.9, longitude=44.6),\n",
       "  Geopoint(latitude=66.73333333333333, longitude=44.6),\n",
       "  Geopoint(latitude=66.73333333333333, longitude=47.766666666666666),\n",
       "  Geopoint(latitude=66.73333333333333, longitude=50.93333333333333),\n",
       "  Geopoint(latitude=66.73333333333333, longitude=54.099999999999994),\n",
       "  Geopoint(latitude=66.73333333333333, longitude=57.26666666666666),\n",
       "  Geopoint(latitude=66.73333333333333, longitude=60.43333333333332),\n",
       "  Geopoint(latitude=66.73333333333333, longitude=63.59999999999999),\n",
       "  Geopoint(latitude=66.73333333333333, longitude=66.76666666666665),\n",
       "  Geopoint(latitude=66.73333333333333, longitude=69.93333333333332),\n",
       "  Geopoint(latitude=66.73333333333333, longitude=69.93333333333332)]}"
      ]
     },
     "execution_count": 29,
     "metadata": {},
     "output_type": "execute_result"
    }
   ],
   "source": [
    "ship_id = 12\n",
    "print(ships_list[ship_id])\n",
    "alg_eval(wwme, algo, ship_id)"
   ]
  },
  {
   "cell_type": "code",
   "execution_count": 34,
   "metadata": {},
   "outputs": [
    {
     "name": "stdout",
     "output_type": "stream",
     "text": [
      "ShipTimed(name='ТАЙБОЛА', category=<VesselCategory.arc6: 6>, location_point=Geopoint(latitude=69.9, longitude=44.6), route_request=Geopoint(latitude=69.5, longitude=33.75), status=<VesselMoveStatus.waiting: 0>, max_speed=19, avg_speed=0.0, curr_speed=0.0, total_time=0.0, tick=0.16666666666666666, _last_x=None, _last_y=None)\n"
     ]
    },
    {
     "data": {
      "text/plain": [
       "{'total_profit': -9.5,\n",
       " 'actions': [2, 2, 2, 2, 2, 2, 2, 2, 2],\n",
       " 'cords': [Geopoint(latitude=69.9, longitude=44.6),\n",
       "  Geopoint(latitude=69.9, longitude=47.766666666666666),\n",
       "  Geopoint(latitude=69.9, longitude=50.93333333333333),\n",
       "  Geopoint(latitude=69.9, longitude=54.099999999999994),\n",
       "  Geopoint(latitude=69.9, longitude=57.26666666666666),\n",
       "  Geopoint(latitude=69.9, longitude=60.43333333333332),\n",
       "  Geopoint(latitude=69.9, longitude=63.59999999999999),\n",
       "  Geopoint(latitude=69.9, longitude=66.76666666666665),\n",
       "  Geopoint(latitude=69.9, longitude=66.76666666666665)]}"
      ]
     },
     "execution_count": 34,
     "metadata": {},
     "output_type": "execute_result"
    }
   ],
   "source": [
    "ship_id = 41\n",
    "print(ships_list[ship_id])\n",
    "alg_eval(wwme, algo, ship_id)"
   ]
  }
 ],
 "metadata": {
  "kernelspec": {
   "display_name": "Python 3",
   "language": "python",
   "name": "python3"
  },
  "language_info": {
   "codemirror_mode": {
    "name": "ipython",
    "version": 3
   },
   "file_extension": ".py",
   "mimetype": "text/x-python",
   "name": "python",
   "nbconvert_exporter": "python",
   "pygments_lexer": "ipython3",
   "version": "3.11.4"
  }
 },
 "nbformat": 4,
 "nbformat_minor": 2
}
