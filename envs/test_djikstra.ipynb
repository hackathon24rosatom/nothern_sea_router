{
 "cells": [
  {
   "cell_type": "code",
   "execution_count": 1,
   "metadata": {},
   "outputs": [],
   "source": [
    "import pandas as pd\n",
    "from seaborn import heatmap\n",
    "\n",
    "from actors import Ship, Geopoint, VesselCategory, Geopoint\n",
    "\n",
    "grid = pd.read_excel(r\"data\\velocity.xlsx\")\n",
    "routes = pd.read_excel(r\"data\\routes.xlsx\")\n",
    "vessels = pd.read_excel(r\"data\\vessels.xlsx\")"
   ]
  },
  {
   "cell_type": "code",
   "execution_count": 2,
   "metadata": {},
   "outputs": [],
   "source": [
    "from typing import List\n",
    "from dataclasses import dataclass\n",
    "from numpy.typing import NDArray\n",
    "\n",
    "from actors import detect_point_category, speed_limitations, Vessel\n",
    "from geopy.distance import great_circle\n",
    "\n",
    "\n",
    "@dataclass\n",
    "class DijkstraOnGrid:\n",
    "    weighted_map: NDArray\n",
    "    actions_list: List[tuple]\n",
    "\n",
    "    lat: NDArray\n",
    "    lon: NDArray\n",
    "\n",
    "    def __post_init__(self):\n",
    "        x_shape, y_shape = self.weighted_map.shape\n",
    "        self._field_range_x = set(range(0, x_shape))\n",
    "        self._field_range_y = set(range(0, y_shape))\n",
    "\n",
    "        self._empty_grid_generator = lambda: [[None for _ in range(y_shape)] for _ in range(x_shape)]\n",
    "\n",
    "    def get_route_map(self, vessel: Vessel, init_time: float = 0.0):\n",
    "        x, y = vessel.location_point.latitude, vessel.location_point.longitude\n",
    "        assert x in self._field_range_x and y in self._field_range_y\n",
    "\n",
    "        field = self._empty_grid_generator()\n",
    "        trace = self._empty_grid_generator()\n",
    "\n",
    "        queue: list = []\n",
    "        examined: set = set()\n",
    "\n",
    "        field[x][y] = init_time\n",
    "        queue.append((x, y))\n",
    "\n",
    "        while queue:\n",
    "            current_cords = queue.pop(0)\n",
    "            if current_cords in examined:\n",
    "                continue\n",
    "            current_time_weigh = field[current_cords[0]][current_cords[1]]\n",
    "            examined.add(current_cords)\n",
    "            for shift in self.actions_list:\n",
    "                cords = (current_cords[0] + shift[0], current_cords[1] + shift[1])\n",
    "                if cords[0] not in self._field_range_x or cords[1] not in self._field_range_y:\n",
    "                    continue\n",
    "                if cords not in examined:\n",
    "                    weigh = self.weighted_map[cords[0]][cords[1]]\n",
    "                    speed = speed_limitations[detect_point_category(weigh)](vessel)\n",
    "                    if speed:\n",
    "                        queue.append(cords)\n",
    "                        geo_cords = self.lat[cords], self.lon[cords]\n",
    "                        geo_curr_cords = self.lat[current_cords], self.lon[current_cords]\n",
    "                        time_weigh = great_circle(geo_cords, geo_curr_cords).km * 0.539957 / speed\n",
    "                        if field[cords[0]][cords[1]] is None or field[cords[0]][cords[1]] > current_time_weigh + time_weigh:\n",
    "                            field[cords[0]][cords[1]] = current_time_weigh + time_weigh\n",
    "                            trace[cords[0]][cords[1]] = current_cords\n",
    "        return field, trace\n",
    "\n",
    "    @staticmethod\n",
    "    def get_trace_cords(vessel: Vessel, trace_map: List[List[float]]):\n",
    "        geo_point = (vessel.route_request.latitude, vessel.route_request.longitude)\n",
    "        trace = [geo_point]\n",
    "        while geo_point is not None:\n",
    "            trace.append(trace_map[geo_point[0]][geo_point[1]])\n",
    "            geo_point = trace_map[geo_point[0]][geo_point[1]]\n",
    "        return trace\n",
    "        \n",
    "    @staticmethod\n",
    "    def get_trace_time(vessel: Vessel, route_weights: List[List[float]]):\n",
    "        geo_point = (vessel.route_request.latitude, vessel.route_request.longitude)\n",
    "        return route_weights[geo_point[0]][geo_point[1]]\n",
    "\n",
    "    def get_geo(self, vessel: Vessel):\n",
    "        def to_geo(x_idx, y_idx):\n",
    "            return Geopoint(\n",
    "                self.lat[(x_idx, y_idx)],\n",
    "                self.lon[(x_idx, y_idx)],\n",
    "            )\n",
    "        return {\n",
    "            'start' : to_geo(vessel.location_point.latitude, vessel.location_point.longitude),\n",
    "            'end': to_geo(vessel.route_request.latitude, vessel.route_request.longitude)\n",
    "        }"
   ]
  },
  {
   "cell_type": "code",
   "execution_count": 4,
   "metadata": {},
   "outputs": [],
   "source": [
    "integr_velocity = pd.read_excel('data/IntegrVelocity.xlsx', sheet_name=None)\n",
    "lat, lon = integr_velocity['lat'], integr_velocity['lon']"
   ]
  },
  {
   "cell_type": "code",
   "execution_count": 5,
   "metadata": {},
   "outputs": [],
   "source": [
    "from actors import Vessel, speed_limitations\n",
    "\n",
    "lat, lon = integr_velocity['lat'], integr_velocity['lon']\n",
    "\n",
    "def to_geo(x_idx, y_idx):\n",
    "    return Geopoint(\n",
    "        lat.iloc[(x_idx, y_idx)],\n",
    "        lon.iloc[(x_idx, y_idx)],\n",
    "    )\n",
    "\n",
    "ship1 = Vessel(\n",
    "    name='ship_1',\n",
    "    category=VesselCategory.arc8,\n",
    "    location_point=Geopoint(33, 24),\n",
    "    route_request=Geopoint(77, 40),\n",
    "    status=1,\n",
    "    max_speed=22,\n",
    "    avg_speed=0.,\n",
    "    curr_speed=0.,\n",
    ")\n",
    "\n",
    "ship2 = Vessel(\n",
    "    name='ship_2',\n",
    "    category=VesselCategory.arc5,\n",
    "    location_point=Geopoint(200, 55),\n",
    "    route_request=Geopoint(140, 76),\n",
    "    status=1,\n",
    "    max_speed=16,\n",
    "    avg_speed=0.,\n",
    "    curr_speed=0.,\n",
    ")\n",
    "\n",
    "ice_breaker1 = Vessel(\n",
    "    name='ice_breaker_1',\n",
    "    category=VesselCategory.arc91,\n",
    "    location_point=Geopoint(77, 40),\n",
    "    route_request=None,\n",
    "    status=1,\n",
    "    max_speed=18,\n",
    "    avg_speed=0.,\n",
    "    curr_speed=0.,\n",
    ")\n",
    "\n",
    "ice_breaker2 = Vessel(\n",
    "    name='ice_breaker_2',\n",
    "    category=VesselCategory.arc92,\n",
    "    location_point=Geopoint(143, 50),\n",
    "    route_request=None,\n",
    "    status=1,\n",
    "    max_speed=22,\n",
    "    avg_speed=0.,\n",
    "    curr_speed=0.,\n",
    ")"
   ]
  },
  {
   "cell_type": "code",
   "execution_count": 6,
   "metadata": {},
   "outputs": [],
   "source": [
    "ACTIONS = [(-1, 0), (1, 0), (0, 1), (0, -1)]\n",
    "djk = DijkstraOnGrid(\n",
    "    weighted_map=integr_velocity['03-Mar-2020'].values,\n",
    "    actions_list=ACTIONS,\n",
    "    lat=integr_velocity['lat'].values,\n",
    "    lon=integr_velocity['lon'].values,\n",
    ")"
   ]
  },
  {
   "cell_type": "code",
   "execution_count": 7,
   "metadata": {},
   "outputs": [],
   "source": [
    "mapped_routes = {\n",
    "    ss.name : djk.get_route_map(ss)\n",
    "    for ss in [ship1, ship2, ice_breaker1, ice_breaker2]    \n",
    "}"
   ]
  },
  {
   "cell_type": "code",
   "execution_count": 8,
   "metadata": {},
   "outputs": [
    {
     "data": {
      "text/plain": [
       "<Axes: >"
      ]
     },
     "execution_count": 8,
     "metadata": {},
     "output_type": "execute_result"
    },
    {
     "data": {
      "image/png": "[encoded data removed]",
      "text/plain": [
       "<Figure size 640x480 with 2 Axes>"
      ]
     },
     "metadata": {},
     "output_type": "display_data"
    }
   ],
   "source": [
    "mapp = integr_velocity['03-Mar-2020'].values.copy()\n",
    "for cords in djk.get_trace_cords(ship2, mapped_routes[ship2.name][1]):\n",
    "    if cords:\n",
    "        mapp[cords] += 100\n",
    "heatmap(mapp)"
   ]
  },
  {
   "cell_type": "code",
   "execution_count": 32,
   "metadata": {},
   "outputs": [],
   "source": [
    "def get_times_ice_breaker(ship: Ship, ice_breakers: list[Vessel], mapped_routes: dict):\n",
    "    def create_local_ice_breaker(vessel_category, location_point, route_request, max_speed):\n",
    "        return Vessel(\n",
    "            name='local_breaker',\n",
    "            category=vessel_category,\n",
    "            location_point=location_point,\n",
    "            route_request=route_request,\n",
    "            max_speed=max_speed,\n",
    "            status=1,\n",
    "            avg_speed=0.,\n",
    "            curr_speed=0.,\n",
    "        )\n",
    "    time_path_to_ship = {ship.name: {}}\n",
    "    for ice_breaker in ice_breakers:\n",
    "        local_ice_breaker = create_local_ice_breaker(\n",
    "            ice_breaker.category,\n",
    "            ice_breaker.location_point,\n",
    "            ship.location_point,\n",
    "            ice_breaker.max_speed\n",
    "        )\n",
    "        grid_time, _ = mapped_routes[ice_breaker.name]\n",
    "        time_path_to_ship[ship.name][ice_breaker.name] = djk.get_trace_time(local_ice_breaker, grid_time)\n",
    "\n",
    "    return time_path_to_ship\n",
    "\n",
    "def get_caravan_routes(ship: Ship, ice_breakers: list[Vessel]):\n",
    "    def create_local_ice_breaker(vessel_category, location_point, route_request, max_speed):\n",
    "        return Vessel(\n",
    "            name='local_breaker',\n",
    "            category=vessel_category,\n",
    "            location_point=location_point,\n",
    "            route_request=route_request,\n",
    "            max_speed=max_speed,\n",
    "            status=1,\n",
    "            avg_speed=0.,\n",
    "            curr_speed=0.,\n",
    "        )\n",
    "    time_path_to_ship = {ship.name: {}}\n",
    "    for ice_breaker in ice_breakers:\n",
    "        local_ice_breaker = create_local_ice_breaker(\n",
    "            ice_breaker.category,\n",
    "            ship.location_point,\n",
    "            ship.route_request,\n",
    "            ship.max_speed\n",
    "        )\n",
    "        grid_time, trace_map = djk.get_route_map(ice_breaker)\n",
    "        time_path_to_ship[ship.name][ice_breaker.name] = {\n",
    "            'total_time': djk.get_trace_time(local_ice_breaker, grid_time),\n",
    "            'geo_route': djk.get_trace_cords(local_ice_breaker, trace_map),\n",
    "        }\n",
    "    return time_path_to_ship"
   ]
  },
  {
   "cell_type": "code",
   "execution_count": 10,
   "metadata": {},
   "outputs": [
    {
     "data": {
      "text/plain": [
       "{'ship_2': {'ice_breaker_1': 120.66907607720216,\n",
       "  'ice_breaker_2': 52.64328178208445}}"
      ]
     },
     "execution_count": 10,
     "metadata": {},
     "output_type": "execute_result"
    }
   ],
   "source": [
    "get_times_ice_breaker(ship2, [ice_breaker1, ice_breaker2], mapped_routes)"
   ]
  },
  {
   "cell_type": "code",
   "execution_count": 38,
   "metadata": {},
   "outputs": [],
   "source": [
    "trace_time_ships = {\n",
    "    ship.name: djk.get_trace_time(ship, mapped_routes[ship.name][0])\n",
    "    for ship in [ship1, ship2]\n",
    "}"
   ]
  },
  {
   "cell_type": "code",
   "execution_count": 42,
   "metadata": {},
   "outputs": [
    {
     "data": {
      "text/plain": [
       "['ship_2', 'ship_1']"
      ]
     },
     "execution_count": 42,
     "metadata": {},
     "output_type": "execute_result"
    }
   ],
   "source": [
    "sorted(trace_time_ships, key=lambda i: trace_time_ships[i] if trace_time_ships[i] else float('+inf'), reverse=True)"
   ]
  },
  {
   "cell_type": "code",
   "execution_count": 43,
   "metadata": {},
   "outputs": [],
   "source": [
    "from collections import OrderedDict\n",
    "# приоритетная очередь корабей, \n",
    "def make_ships_priority_queue(tts: dict):\n",
    "    sorted_keys = sorted(tts, key=lambda i: tts[i] if tts[i] else float('+inf'), reverse=True)\n",
    "    return OrderedDict({\n",
    "        sort_key: tts[sort_key]\n",
    "        for sort_key in sorted_keys\n",
    "    })"
   ]
  },
  {
   "cell_type": "code",
   "execution_count": 44,
   "metadata": {},
   "outputs": [
    {
     "data": {
      "text/plain": [
       "OrderedDict([('ship_2', 98.91995934507567), ('ship_1', 38.0427812018898)])"
      ]
     },
     "execution_count": 44,
     "metadata": {},
     "output_type": "execute_result"
    }
   ],
   "source": [
    "make_ships_priority_queue(trace_time_ships)"
   ]
  },
  {
   "cell_type": "code",
   "execution_count": 11,
   "metadata": {},
   "outputs": [
    {
     "data": {
      "text/plain": [
       "98.91995934507567"
      ]
     },
     "execution_count": 11,
     "metadata": {},
     "output_type": "execute_result"
    }
   ],
   "source": [
    "djk.get_trace_time(ship2, mapped_routes[ship2.name][0])"
   ]
  },
  {
   "cell_type": "code",
   "execution_count": 33,
   "metadata": {},
   "outputs": [],
   "source": [
    "caravan_routes = get_caravan_routes(ship2, [ice_breaker1, ice_breaker2])"
   ]
  },
  {
   "cell_type": "code",
   "execution_count": 36,
   "metadata": {},
   "outputs": [
    {
     "name": "stdout",
     "output_type": "stream",
     "text": [
      "78.68898420334024 75.97307062393143\n"
     ]
    }
   ],
   "source": [
    "print(\n",
    "    caravan_routes[ship2.name][ice_breaker1.name]['total_time'],\n",
    "    caravan_routes[ship2.name][ice_breaker2.name]['total_time'],\n",
    ")"
   ]
  },
  {
   "cell_type": "code",
   "execution_count": 47,
   "metadata": {},
   "outputs": [],
   "source": [
    "def ids2geopoints(route: list[tuple]):\n",
    "    route = route[:-1]\n",
    "    if len(route) != 0:\n",
    "        return list(map(lambda ids: to_geo(*ids), route))"
   ]
  },
  {
   "cell_type": "code",
   "execution_count": 48,
   "metadata": {},
   "outputs": [
    {
     "data": {
      "text/plain": [
       "[Geopoint(latitude=72.1578, longitude=128),\n",
       " Geopoint(latitude=72.3661, longitude=128),\n",
       " Geopoint(latitude=72.5743, longitude=128),\n",
       " Geopoint(latitude=72.7823, longitude=128),\n",
       " Geopoint(latitude=72.9902, longitude=129),\n",
       " Geopoint(latitude=73.1978, longitude=129),\n",
       " Geopoint(latitude=73.4053, longitude=129),\n",
       " Geopoint(latitude=73.6125, longitude=129),\n",
       " Geopoint(latitude=73.8194, longitude=130),\n",
       " Geopoint(latitude=74.0262, longitude=130),\n",
       " Geopoint(latitude=74.2326, longitude=130),\n",
       " Geopoint(latitude=74.4387, longitude=131),\n",
       " Geopoint(latitude=74.3581, longitude=131),\n",
       " Geopoint(latitude=74.5629, longitude=132),\n",
       " Geopoint(latitude=74.7672, longitude=132),\n",
       " Geopoint(latitude=74.9712, longitude=132),\n",
       " Geopoint(latitude=75.1748, longitude=133),\n",
       " Geopoint(latitude=75.378, longitude=133),\n",
       " Geopoint(latitude=75.5807, longitude=133),\n",
       " Geopoint(latitude=75.783, longitude=134),\n",
       " Geopoint(latitude=75.691, longitude=134),\n",
       " Geopoint(latitude=75.8914, longitude=135),\n",
       " Geopoint(latitude=75.7952, longitude=136),\n",
       " Geopoint(latitude=75.6962, longitude=136),\n",
       " Geopoint(latitude=75.5944, longitude=137),\n",
       " Geopoint(latitude=75.49, longitude=138),\n",
       " Geopoint(latitude=75.383, longitude=139),\n",
       " Geopoint(latitude=75.2735, longitude=140),\n",
       " Geopoint(latitude=75.1615, longitude=140),\n",
       " Geopoint(latitude=75.047, longitude=141),\n",
       " Geopoint(latitude=74.9302, longitude=142),\n",
       " Geopoint(latitude=74.811, longitude=142),\n",
       " Geopoint(latitude=74.6896, longitude=143),\n",
       " Geopoint(latitude=74.5661, longitude=144),\n",
       " Geopoint(latitude=74.4403, longitude=145),\n",
       " Geopoint(latitude=74.3125, longitude=145),\n",
       " Geopoint(latitude=74.1827, longitude=146),\n",
       " Geopoint(latitude=74.0508, longitude=147),\n",
       " Geopoint(latitude=73.9171, longitude=147),\n",
       " Geopoint(latitude=73.7815, longitude=148),\n",
       " Geopoint(latitude=73.644, longitude=148),\n",
       " Geopoint(latitude=73.5048, longitude=149),\n",
       " Geopoint(latitude=73.3639, longitude=150),\n",
       " Geopoint(latitude=73.2212, longitude=150),\n",
       " Geopoint(latitude=73.077, longitude=151),\n",
       " Geopoint(latitude=72.9311, longitude=151),\n",
       " Geopoint(latitude=72.7838, longitude=152),\n",
       " Geopoint(latitude=72.6349, longitude=152),\n",
       " Geopoint(latitude=72.4846, longitude=153),\n",
       " Geopoint(latitude=72.3328, longitude=153),\n",
       " Geopoint(latitude=72.1797, longitude=154),\n",
       " Geopoint(latitude=72.0253, longitude=155),\n",
       " Geopoint(latitude=72.1797, longitude=155),\n",
       " Geopoint(latitude=72.0225, longitude=156),\n",
       " Geopoint(latitude=72.1742, longitude=156),\n",
       " Geopoint(latitude=72.0144, longitude=157),\n",
       " Geopoint(latitude=71.8534, longitude=157),\n",
       " Geopoint(latitude=71.6912, longitude=157),\n",
       " Geopoint(latitude=71.5279, longitude=158),\n",
       " Geopoint(latitude=71.3635, longitude=158),\n",
       " Geopoint(latitude=71.198, longitude=159),\n",
       " Geopoint(latitude=71.0315, longitude=159),\n",
       " Geopoint(latitude=70.8641, longitude=160),\n",
       " Geopoint(latitude=70.6957, longitude=160),\n",
       " Geopoint(latitude=70.5263, longitude=161),\n",
       " Geopoint(latitude=70.3561, longitude=161),\n",
       " Geopoint(latitude=70.1849, longitude=161),\n",
       " Geopoint(latitude=70.013, longitude=162),\n",
       " Geopoint(latitude=69.8402, longitude=162),\n",
       " Geopoint(latitude=69.6666, longitude=163),\n",
       " Geopoint(latitude=69.4922, longitude=163),\n",
       " Geopoint(latitude=69.3171, longitude=163),\n",
       " Geopoint(latitude=69.1413, longitude=164),\n",
       " Geopoint(latitude=68.9648, longitude=164),\n",
       " Geopoint(latitude=68.7876, longitude=164),\n",
       " Geopoint(latitude=68.6098, longitude=165),\n",
       " Geopoint(latitude=68.4313, longitude=165),\n",
       " Geopoint(latitude=68.2522, longitude=165),\n",
       " Geopoint(latitude=68.0725, longitude=166),\n",
       " Geopoint(latitude=67.8923, longitude=166),\n",
       " Geopoint(latitude=67.7115, longitude=166),\n",
       " Geopoint(latitude=67.5301, longitude=167)]"
      ]
     },
     "execution_count": 48,
     "metadata": {},
     "output_type": "execute_result"
    }
   ],
   "source": [
    "ids2geopoints(caravan_routes[ship2.name][ice_breaker1.name]['geo_route'])"
   ]
  },
  {
   "cell_type": "code",
   "execution_count": null,
   "metadata": {},
   "outputs": [],
   "source": []
  },
  {
   "cell_type": "code",
   "execution_count": null,
   "metadata": {},
   "outputs": [],
   "source": []
  }
 ],
 "metadata": {
  "kernelspec": {
   "display_name": "Python 3",
   "language": "python",
   "name": "python3"
  },
  "language_info": {
   "codemirror_mode": {
    "name": "ipython",
    "version": 3
   },
   "file_extension": ".py",
   "mimetype": "text/x-python",
   "name": "python",
   "nbconvert_exporter": "python",
   "pygments_lexer": "ipython3",
   "version": "3.11.4"
  }
 },
 "nbformat": 4,
 "nbformat_minor": 2
}
