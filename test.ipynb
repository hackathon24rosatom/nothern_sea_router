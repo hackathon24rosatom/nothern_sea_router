{
 "cells": [
  {
   "cell_type": "code",
   "execution_count": 10,
   "metadata": {},
   "outputs": [],
   "source": [
    "from route_parameters import *"
   ]
  },
  {
   "cell_type": "code",
   "execution_count": 14,
   "metadata": {},
   "outputs": [
    {
     "name": "stdout",
     "output_type": "stream",
     "text": [
      "60.03141912169564\n",
      "[1 1 3]\n",
      "36.018851473017385\n"
     ]
    }
   ],
   "source": [
    "test = Route_parameters([[4, 5, 6],[1, 2, 3],[1, 1, 3]],(1, 1), (1, 2))\n",
    "print(test.get_distance())\n",
    "print(test.min_speed())\n",
    "print(test.get_time())"
   ]
  },
  {
   "cell_type": "code",
   "execution_count": 12,
   "metadata": {},
   "outputs": [
    {
     "name": "stdout",
     "output_type": "stream",
     "text": [
      "189.80419291344214\n",
      "[4 5 6]\n",
      "37.960838582688424\n"
     ]
    }
   ],
   "source": [
    "test = Route_parameters([4, 5, 6],(2, 4), (1, 7))\n",
    "print(test.get_distance())\n",
    "print(test.min_speed())\n",
    "print(test.get_time())"
   ]
  },
  {
   "cell_type": "code",
   "execution_count": null,
   "metadata": {},
   "outputs": [],
   "source": []
  }
 ],
 "metadata": {
  "kernelspec": {
   "display_name": "base",
   "language": "python",
   "name": "python3"
  },
  "language_info": {
   "codemirror_mode": {
    "name": "ipython",
    "version": 3
   },
   "file_extension": ".py",
   "mimetype": "text/x-python",
   "name": "python",
   "nbconvert_exporter": "python",
   "pygments_lexer": "ipython3",
   "version": "3.9.16"
  }
 },
 "nbformat": 4,
 "nbformat_minor": 2
}
